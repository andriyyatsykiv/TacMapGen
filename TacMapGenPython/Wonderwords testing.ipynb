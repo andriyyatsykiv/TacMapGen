{
 "cells": [
  {
   "cell_type": "code",
   "execution_count": 2,
   "id": "bbd37065-c56c-4779-b4f7-8f8e8f7d5bd7",
   "metadata": {},
   "outputs": [],
   "source": [
    "import wonderwords as ww\n",
    "word = ww.RandomWord().word(word_min_length=3, word_max_length=8)"
   ]
  },
  {
   "cell_type": "code",
   "execution_count": 4,
   "id": "52562265-5236-4b4c-8d30-c900e8609aa2",
   "metadata": {},
   "outputs": [
    {
     "name": "stdout",
     "output_type": "stream",
     "text": [
      "nation\n"
     ]
    }
   ],
   "source": [
    "print(word)"
   ]
  },
  {
   "cell_type": "code",
   "execution_count": null,
   "id": "a6ac2c72-35e1-4272-bf46-1c98a3f27b8d",
   "metadata": {},
   "outputs": [],
   "source": []
  }
 ],
 "metadata": {
  "kernelspec": {
   "display_name": "Python 3 (ipykernel)",
   "language": "python",
   "name": "python3"
  },
  "language_info": {
   "codemirror_mode": {
    "name": "ipython",
    "version": 3
   },
   "file_extension": ".py",
   "mimetype": "text/x-python",
   "name": "python",
   "nbconvert_exporter": "python",
   "pygments_lexer": "ipython3",
   "version": "3.9.6"
  }
 },
 "nbformat": 4,
 "nbformat_minor": 5
}
